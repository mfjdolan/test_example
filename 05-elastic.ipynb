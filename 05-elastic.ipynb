{
 "metadata": {
  "name": "",
  "signature": "sha256:0fad7fd07eed82bb642d66bf7202be875e5114562f332e2f2d0aa8f0c7c90644"
 },
 "nbformat": 3,
 "nbformat_minor": 0,
 "worksheets": [
  {
   "cells": [
    {
     "cell_type": "code",
     "collapsed": false,
     "input": [
      "import numpy as np\n",
      "from matplotlib import pyplot as plt\n",
      "from sklearn import preprocessing\n",
      "import Orange\n",
      "%matplotlib inline"
     ],
     "language": "python",
     "metadata": {},
     "outputs": [],
     "prompt_number": 2
    },
    {
     "cell_type": "heading",
     "level": 1,
     "metadata": {},
     "source": [
      "Podatki"
     ]
    },
    {
     "cell_type": "code",
     "collapsed": false,
     "input": [
      "np.random.seed(42)\n",
      "n = 50\n",
      "x = np.random.random_sample(n)\n",
      "X = np.column_stack((np.ones(len(x)), x))\n",
      "y = 1 - X[:,1] + np.random.normal(0, 0.2, len(x))\n",
      "X = np.column_stack((X, np.random.random_sample(n), np.random.random_sample(n), np.random.random_sample(n)))\n",
      "X = preprocessing.scale(X, axis=0)"
     ],
     "language": "python",
     "metadata": {},
     "outputs": [],
     "prompt_number": 3
    },
    {
     "cell_type": "code",
     "collapsed": false,
     "input": [
      "plt.plot(X[:,1], y, \"o\");"
     ],
     "language": "python",
     "metadata": {},
     "outputs": [
      {
       "metadata": {},
       "output_type": "display_data",
       "png": "[encoded data removed]",
       "text": [
        "<matplotlib.figure.Figure at 0x10a72f3c8>"
       ]
      }
     ],
     "prompt_number": 9
    },
    {
     "cell_type": "heading",
     "level": 1,
     "metadata": {},
     "source": [
      "Implementacija metode Elastic Net"
     ]
    },
    {
     "cell_type": "code",
     "collapsed": false,
     "input": [
      "def soft_threshold(z, gamma):\n",
      "    return 0 if (gamma>=abs(z)) else z-gamma if z>0 else z+gamma"
     ],
     "language": "python",
     "metadata": {},
     "outputs": [],
     "prompt_number": 4
    },
    {
     "cell_type": "code",
     "collapsed": true,
     "input": [
      "def coordinate_descent(X, y, alpha=0.5, lam=0.1, n_epochs=100):\n",
      "    betas = np.random.rand(X.shape[1]) * 0.001\n",
      "    ridge_shrinkage = 1 + lam * (1-alpha)\n",
      "    for epoch in range(n_epochs):\n",
      "        for j in range(betas.shape[0]):\n",
      "            betas[j] = 0\n",
      "            residual = y - X.dot(betas)\n",
      "            lasso_part = soft_threshold(np.sum(residual.dot(X[:,j]))/X.shape[0], lam * alpha)\n",
      "            betas[j] = lasso_part / ridge_shrinkage\n",
      "    return betas"
     ],
     "language": "python",
     "metadata": {},
     "outputs": [],
     "prompt_number": 5
    },
    {
     "cell_type": "heading",
     "level": 1,
     "metadata": {},
     "source": [
      "Nekaj poskusov in primerjava Elastic Net z Ridge Regression in Lasso (spreminjamo paramater alpha)"
     ]
    },
    {
     "cell_type": "code",
     "collapsed": false,
     "input": [
      "betas = coordinate_descent(X, y, alpha=0)\n",
      "betas"
     ],
     "language": "python",
     "metadata": {},
     "outputs": [
      {
       "metadata": {},
       "output_type": "pyout",
       "prompt_number": 6,
       "text": [
        "array([ 0.        , -0.25771911, -0.0350218 ,  0.03296206, -0.02531772])"
       ]
      }
     ],
     "prompt_number": 6
    },
    {
     "cell_type": "code",
     "collapsed": false,
     "input": [
      "ridge = Orange.regression.RidgeRegressionLearner()\n",
      "elastic = Orange.regression.ElasticNetLearner(alpha=0.5)\n",
      "model = ridge(Orange.data.Table(X, y))"
     ],
     "language": "python",
     "metadata": {},
     "outputs": [],
     "prompt_number": 7
    },
    {
     "cell_type": "code",
     "collapsed": false,
     "input": [
      "model.skl_model.coef_"
     ],
     "language": "python",
     "metadata": {},
     "outputs": [
      {
       "metadata": {},
       "output_type": "pyout",
       "prompt_number": 8,
       "text": [
        "array([ 0.        , -0.27872363, -0.03518248,  0.03129935, -0.02278579])"
       ]
      }
     ],
     "prompt_number": 8
    },
    {
     "cell_type": "code",
     "collapsed": false,
     "input": [
      "betas"
     ],
     "language": "python",
     "metadata": {},
     "outputs": [
      {
       "metadata": {},
       "output_type": "pyout",
       "prompt_number": 9,
       "text": [
        "array([ 0.        , -0.25771911, -0.0350218 ,  0.03296206, -0.02531772])"
       ]
      }
     ],
     "prompt_number": 9
    }
   ],
   "metadata": {}
  }
 ]
}